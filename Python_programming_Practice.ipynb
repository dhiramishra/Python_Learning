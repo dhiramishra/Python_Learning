{
  "nbformat": 4,
  "nbformat_minor": 0,
  "metadata": {
    "colab": {
      "name": "Python_programming_Practice.ipynb",
      "provenance": [],
      "collapsed_sections": [],
      "authorship_tag": "ABX9TyMExv+lKgCEOamypVeSdwh/",
      "include_colab_link": true
    },
    "kernelspec": {
      "name": "python3",
      "display_name": "Python 3"
    },
    "language_info": {
      "name": "python"
    }
  },
  "cells": [
    {
      "cell_type": "markdown",
      "metadata": {
        "id": "view-in-github",
        "colab_type": "text"
      },
      "source": [
        "<a href=\"https://colab.research.google.com/github/dhiramishra/Python_Learning/blob/master/Python_programming_Practice.ipynb\" target=\"_parent\"><img src=\"https://colab.research.google.com/assets/colab-badge.svg\" alt=\"Open In Colab\"/></a>"
      ]
    },
    {
      "cell_type": "code",
      "metadata": {
        "colab": {
          "base_uri": "https://localhost:8080/"
        },
        "id": "DQZhTn8lYPla",
        "outputId": "64d547e8-693d-428d-ebb2-6b3257283c21"
      },
      "source": [
        "print(\"Hello World\")"
      ],
      "execution_count": null,
      "outputs": [
        {
          "output_type": "stream",
          "text": [
            "Hello World\n"
          ],
          "name": "stdout"
        }
      ]
    },
    {
      "cell_type": "markdown",
      "metadata": {
        "id": "_DCJ4Zc-cMkG"
      },
      "source": [
        "Star Pattern Programming "
      ]
    },
    {
      "cell_type": "code",
      "metadata": {
        "colab": {
          "base_uri": "https://localhost:8080/"
        },
        "id": "2CH2NVTVYZRs",
        "outputId": "56f03916-6268-4dfa-fd80-aa67a638d801"
      },
      "source": [
        "for i in range (5):\n",
        "  for j in range (5):\n",
        "    if (j <= i):\n",
        "      print(\"*\", end=\" \")\n",
        "  print(\" \")"
      ],
      "execution_count": null,
      "outputs": [
        {
          "output_type": "stream",
          "text": [
            "*  \n",
            "* *  \n",
            "* * *  \n",
            "* * * *  \n",
            "* * * * *  \n"
          ],
          "name": "stdout"
        }
      ]
    },
    {
      "cell_type": "markdown",
      "metadata": {
        "id": "C1HwYbQdcI1o"
      },
      "source": [
        "Working On List in Python "
      ]
    },
    {
      "cell_type": "markdown",
      "metadata": {
        "id": "VcYBvv5Tclv6"
      },
      "source": [
        "Lists are used to store multiple items in a single variable.\n",
        "\n",
        "List Items\n",
        "List items are ordered, changeable, and allow duplicate values.\n",
        "\n",
        "List items are indexed, the first item has index [0], the second item has index [1] etc.\n",
        "\n",
        "Declaring a List :- "
      ]
    },
    {
      "cell_type": "code",
      "metadata": {
        "colab": {
          "base_uri": "https://localhost:8080/"
        },
        "id": "9Ju5Qy4-dGKY",
        "outputId": "9be9f9cd-7638-4be9-ab0e-84bceee5476c"
      },
      "source": [
        "myName = [\"Ajay\", \"Vikash\", \"Vishal\",\"Dhiraj\", \"Shahid\", \"Neha\",\n",
        "          \"Ishika\"]\n",
        "print(myName)"
      ],
      "execution_count": 1,
      "outputs": [
        {
          "output_type": "stream",
          "text": [
            "['Ajay', 'Vikash', 'Vishal', 'Dhiraj', 'Shahid', 'Neha', 'Ishika']\n"
          ],
          "name": "stdout"
        }
      ]
    }
  ]
}